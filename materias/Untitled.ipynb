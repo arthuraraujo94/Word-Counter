{
 "cells": [
  {
   "cell_type": "code",
   "execution_count": null,
   "metadata": {},
   "outputs": [],
   "source": [
    "import requests\n",
    "from bs4 import BeautifulSoup\n",
    "import re\n",
    "import os\n",
    "import urllib\n",
    "#page = requests.get('https://www.bbc.com/portuguese/brasil-47065921?ocid=wsportuguese.chat-apps.in-app-msg.whatsapp.trial.link1_.auin&fbclid=IwAR1qBR5V8LyJeuJlhuu4mvv0lGM4_cp0DTIfDBiHG6R9lswksUr1r0omHH0')\n",
    "#soup = BeautifulSoup(page.text, 'html.parser')\n",
    "#soup.body.text.strip()\n",
    "\n",
    "def clean_soup(soup):\n",
    "    for script in soup([\"script\", \"style\"]):\n",
    "        script.decompose()    # rip it out\n",
    "\n",
    "    # get text\n",
    "    text = soup.get_text()\n",
    "\n",
    "    # break into lines and remove leading and trailing space on each\n",
    "    lines = (line.strip() for line in text.splitlines())\n",
    "    # break multi-headlines into a line each\n",
    "    chunks = (phrase.strip() for line in lines for phrase in line.split(\"  \"))\n",
    "    # drop blank lines\n",
    "    text = '\\n'.join(chunk for chunk in chunks if chunk)\n",
    "    #try:\n",
    "    #    a = text.encode('latin-1')\n",
    "    #except:\n",
    "    #    a = text.encode('utf-8')\n",
    "    return text\n",
    "\n",
    "#re.sub(\"[ \\n\\r\\t]{2,}\", \" \", text)\n",
    "\n",
    "ex = os.listdir()\n",
    "# # Collect first page of artists’ list\n",
    "with open('non_scraped.txt', 'r') as f:\n",
    "    \n",
    "    for l in f:\n",
    "        if len(l) < 7: continue\n",
    "        try:\n",
    "            page = requests.get(urllib.parse.unquote(l, encoding='latin-1'))\n",
    "            soup = BeautifulSoup(page.text, 'html.parser')\n",
    "            file_name = soup.title.text.replace(r'/','-') + '.txt'\n",
    "            if file_name in ex: continue\n",
    "\n",
    "            with open(file_name, 'w') as w:\n",
    "                w.write(clean_soup(soup))\n",
    "        except Exception as e:\n",
    "            print(e)\n",
    "            print(l)\n",
    "            return"
   ]
  },
  {
   "cell_type": "code",
   "execution_count": null,
   "metadata": {},
   "outputs": [],
   "source": [
    "u'abc'.decode('latin-1')"
   ]
  }
 ],
 "metadata": {
  "kernelspec": {
   "display_name": "Python 3",
   "language": "python",
   "name": "python3"
  },
  "language_info": {
   "codemirror_mode": {
    "name": "ipython",
    "version": 3
   },
   "file_extension": ".py",
   "mimetype": "text/x-python",
   "name": "python",
   "nbconvert_exporter": "python",
   "pygments_lexer": "ipython3",
   "version": "3.6.8"
  }
 },
 "nbformat": 4,
 "nbformat_minor": 2
}
